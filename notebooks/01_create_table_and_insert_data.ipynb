{
 "cells": [
  {
   "cell_type": "code",
   "execution_count": 1,
   "metadata": {
    "ExecuteTime": {
     "end_time": "2019-09-27T08:03:33.934208Z",
     "start_time": "2019-09-27T08:03:26.455128Z"
    }
   },
   "outputs": [
    {
     "data": {
      "text/plain": [
       "'input current date: '"
      ]
     },
     "metadata": {},
     "output_type": "display_data"
    },
    {
     "name": "stdout",
     "output_type": "stream",
     "text": [
      "20190927\n"
     ]
    }
   ],
   "source": [
    "import s1_prepare_data as s1\n",
    "import pandas as pd"
   ]
  },
  {
   "cell_type": "code",
   "execution_count": 2,
   "metadata": {
    "ExecuteTime": {
     "end_time": "2019-09-27T08:03:34.745235Z",
     "start_time": "2019-09-27T08:03:34.742904Z"
    }
   },
   "outputs": [],
   "source": [
    "PD = s1.Prepare_Data()"
   ]
  },
  {
   "cell_type": "code",
   "execution_count": 3,
   "metadata": {
    "ExecuteTime": {
     "end_time": "2019-09-27T08:03:35.514843Z",
     "start_time": "2019-09-27T08:03:35.511534Z"
    }
   },
   "outputs": [],
   "source": [
    "PD.login_and_choose_database(database = 'python_clickhouse_test')"
   ]
  },
  {
   "cell_type": "code",
   "execution_count": 4,
   "metadata": {
    "ExecuteTime": {
     "end_time": "2019-09-27T08:03:36.339400Z",
     "start_time": "2019-09-27T08:03:36.327905Z"
    }
   },
   "outputs": [
    {
     "data": {
      "text/plain": [
       "[('account_table',),\n",
       " ('basic_table',),\n",
       " ('basic_table_sample',),\n",
       " ('fraud_case_table',),\n",
       " ('information_table',)]"
      ]
     },
     "execution_count": 4,
     "metadata": {},
     "output_type": "execute_result"
    }
   ],
   "source": [
    "PD.raw_query('show tables;')"
   ]
  },
  {
   "cell_type": "markdown",
   "metadata": {},
   "source": [
    "## create table"
   ]
  },
  {
   "cell_type": "code",
   "execution_count": 5,
   "metadata": {
    "ExecuteTime": {
     "end_time": "2019-09-24T10:44:39.002534Z",
     "start_time": "2019-09-24T10:44:38.996563Z"
    }
   },
   "outputs": [
    {
     "name": "stdout",
     "output_type": "stream",
     "text": [
      "query overview:\n",
      "CREATE TABLE IF NOT EXISTS basic_table\n",
      " (cust_id String, date Date)\n",
      " ENGINE = MergeTree\n",
      " ORDER BY cust_id\n",
      "\n",
      "show tables:\n",
      "[('basic_table',)]\n"
     ]
    }
   ],
   "source": [
    "PD.create_table(table_name = 'basic_table',\n",
    "             columns = 'cust_id String, date Date',\n",
    "             engine = 'MergeTree',\n",
    "             ordered_column = 'cust_id')"
   ]
  },
  {
   "cell_type": "code",
   "execution_count": 6,
   "metadata": {
    "ExecuteTime": {
     "end_time": "2019-09-24T10:44:39.682617Z",
     "start_time": "2019-09-24T10:44:39.672174Z"
    }
   },
   "outputs": [
    {
     "name": "stdout",
     "output_type": "stream",
     "text": [
      "query overview:\n",
      "CREATE TABLE IF NOT EXISTS fraud_case_table\n",
      " (cust_id String, date Date, fraud_label Int64, risk_level Int64)\n",
      " ENGINE = MergeTree\n",
      " ORDER BY cust_id\n",
      "\n",
      "show tables:\n",
      "[('basic_table',), ('fraud_case_table',)]\n"
     ]
    }
   ],
   "source": [
    "PD.create_table(table_name = 'fraud_case_table',\n",
    "             columns = 'cust_id String, date Date, fraud_label Int64, risk_level Int64',\n",
    "             engine = 'MergeTree',\n",
    "             ordered_column = 'cust_id')"
   ]
  },
  {
   "cell_type": "code",
   "execution_count": 7,
   "metadata": {
    "ExecuteTime": {
     "end_time": "2019-09-24T10:44:40.328069Z",
     "start_time": "2019-09-24T10:44:40.321963Z"
    }
   },
   "outputs": [
    {
     "name": "stdout",
     "output_type": "stream",
     "text": [
      "query overview:\n",
      "CREATE TABLE IF NOT EXISTS account_table\n",
      " (cust_id String, date Date, amount Int64)\n",
      " ENGINE = MergeTree\n",
      " ORDER BY cust_id\n",
      "\n",
      "show tables:\n",
      "[('account_table',), ('basic_table',), ('fraud_case_table',)]\n"
     ]
    }
   ],
   "source": [
    "PD.create_table(table_name = 'account_table',\n",
    "             columns = 'cust_id String, date Date, amount Int64',\n",
    "             engine = 'MergeTree',\n",
    "             ordered_column = 'cust_id')"
   ]
  },
  {
   "cell_type": "code",
   "execution_count": 8,
   "metadata": {
    "ExecuteTime": {
     "end_time": "2019-09-24T10:44:40.938193Z",
     "start_time": "2019-09-24T10:44:40.932325Z"
    }
   },
   "outputs": [
    {
     "name": "stdout",
     "output_type": "stream",
     "text": [
      "query overview:\n",
      "CREATE TABLE IF NOT EXISTS information_table\n",
      " (cust_id String, date Date, gender String, job String)\n",
      " ENGINE = MergeTree\n",
      " ORDER BY cust_id\n",
      "\n",
      "show tables:\n",
      "[('account_table',), ('basic_table',), ('fraud_case_table',), ('information_table',)]\n"
     ]
    }
   ],
   "source": [
    "PD.create_table(table_name = 'information_table',\n",
    "             columns = 'cust_id String, date Date, gender String, job String',\n",
    "             engine = 'MergeTree',\n",
    "             ordered_column = 'cust_id')"
   ]
  },
  {
   "cell_type": "markdown",
   "metadata": {},
   "source": [
    "## insert data"
   ]
  },
  {
   "cell_type": "code",
   "execution_count": 9,
   "metadata": {
    "ExecuteTime": {
     "end_time": "2019-09-24T10:44:43.522107Z",
     "start_time": "2019-09-24T10:44:43.089114Z"
    }
   },
   "outputs": [],
   "source": [
    "!cat 'fake_data/basic_table.csv' | clickhouse-client -d python_clickhouse_test --query='insert into basic_table format CSV' \\\n",
    "--input_format_allow_errors_ratio=0.01"
   ]
  },
  {
   "cell_type": "code",
   "execution_count": 10,
   "metadata": {
    "ExecuteTime": {
     "end_time": "2019-09-24T10:44:44.571859Z",
     "start_time": "2019-09-24T10:44:44.092598Z"
    }
   },
   "outputs": [],
   "source": [
    "!cat 'fake_data/fraud_case_table.csv' | clickhouse-client -d python_clickhouse_test --query='insert into fraud_case_table format CSV' \\\n",
    "--input_format_allow_errors_ratio=0.01"
   ]
  },
  {
   "cell_type": "code",
   "execution_count": 11,
   "metadata": {
    "ExecuteTime": {
     "end_time": "2019-09-24T10:44:46.869491Z",
     "start_time": "2019-09-24T10:44:45.054268Z"
    }
   },
   "outputs": [],
   "source": [
    "!cat 'fake_data/account_table.csv' | clickhouse-client -d python_clickhouse_test --query='insert into account_table format CSV' \\\n",
    "--input_format_allow_errors_ratio=0.1"
   ]
  },
  {
   "cell_type": "code",
   "execution_count": 12,
   "metadata": {
    "ExecuteTime": {
     "end_time": "2019-09-24T10:44:48.063083Z",
     "start_time": "2019-09-24T10:44:47.512637Z"
    }
   },
   "outputs": [],
   "source": [
    "!cat 'fake_data/information_table.csv' | clickhouse-client -d python_clickhouse_test --query='insert into information_table format CSV' \\\n",
    "--input_format_allow_errors_ratio=0.1"
   ]
  },
  {
   "cell_type": "code",
   "execution_count": 13,
   "metadata": {
    "ExecuteTime": {
     "end_time": "2019-09-24T10:44:48.812170Z",
     "start_time": "2019-09-24T10:44:48.799956Z"
    }
   },
   "outputs": [
    {
     "data": {
      "text/plain": [
       "([(500000,)], [(500000,)], [(5000000,)], [(500000,)])"
      ]
     },
     "execution_count": 13,
     "metadata": {},
     "output_type": "execute_result"
    }
   ],
   "source": [
    "PD.raw_query('select count() from basic_table'),\\\n",
    "PD.raw_query('select count() from fraud_case_table'),\\\n",
    "PD.raw_query('select count() from account_table'),\\\n",
    "PD.raw_query('select count() from information_table')"
   ]
  },
  {
   "cell_type": "code",
   "execution_count": 14,
   "metadata": {
    "ExecuteTime": {
     "end_time": "2019-09-24T10:44:50.063465Z",
     "start_time": "2019-09-24T10:44:50.046994Z"
    }
   },
   "outputs": [
    {
     "data": {
      "text/html": [
       "<div>\n",
       "<style scoped>\n",
       "    .dataframe tbody tr th:only-of-type {\n",
       "        vertical-align: middle;\n",
       "    }\n",
       "\n",
       "    .dataframe tbody tr th {\n",
       "        vertical-align: top;\n",
       "    }\n",
       "\n",
       "    .dataframe thead th {\n",
       "        text-align: right;\n",
       "    }\n",
       "</style>\n",
       "<table border=\"1\" class=\"dataframe\">\n",
       "  <thead>\n",
       "    <tr style=\"text-align: right;\">\n",
       "      <th></th>\n",
       "      <th>cust_id</th>\n",
       "      <th>date</th>\n",
       "      <th>gender</th>\n",
       "      <th>job</th>\n",
       "    </tr>\n",
       "  </thead>\n",
       "  <tbody>\n",
       "    <tr>\n",
       "      <th>0</th>\n",
       "      <td>2000007878</td>\n",
       "      <td>2018-12-19</td>\n",
       "      <td>Male</td>\n",
       "      <td>~</td>\n",
       "    </tr>\n",
       "    <tr>\n",
       "      <th>1</th>\n",
       "      <td>2000008555</td>\n",
       "      <td>2018-11-01</td>\n",
       "      <td>Female</td>\n",
       "      <td>Engineer</td>\n",
       "    </tr>\n",
       "    <tr>\n",
       "      <th>2</th>\n",
       "      <td>2000024405</td>\n",
       "      <td>2018-05-28</td>\n",
       "      <td>Male</td>\n",
       "      <td>Teacher</td>\n",
       "    </tr>\n",
       "    <tr>\n",
       "      <th>3</th>\n",
       "      <td>2000031035</td>\n",
       "      <td>2018-08-10</td>\n",
       "      <td>~</td>\n",
       "      <td>Students</td>\n",
       "    </tr>\n",
       "    <tr>\n",
       "      <th>4</th>\n",
       "      <td>2000031841</td>\n",
       "      <td>2018-11-05</td>\n",
       "      <td>Female</td>\n",
       "      <td>Accounter</td>\n",
       "    </tr>\n",
       "  </tbody>\n",
       "</table>\n",
       "</div>"
      ],
      "text/plain": [
       "      cust_id        date  gender        job\n",
       "0  2000007878  2018-12-19    Male          ~\n",
       "1  2000008555  2018-11-01  Female   Engineer\n",
       "2  2000024405  2018-05-28    Male    Teacher\n",
       "3  2000031035  2018-08-10       ~   Students\n",
       "4  2000031841  2018-11-05  Female  Accounter"
      ]
     },
     "execution_count": 14,
     "metadata": {},
     "output_type": "execute_result"
    }
   ],
   "source": [
    "pd.DataFrame(PD.raw_query('select * from information_table limit 5'),columns=['cust_id','date','gender','job'])"
   ]
  },
  {
   "cell_type": "code",
   "execution_count": 5,
   "metadata": {
    "ExecuteTime": {
     "end_time": "2019-09-27T07:57:37.490068Z",
     "start_time": "2019-09-27T07:57:37.464889Z"
    }
   },
   "outputs": [
    {
     "data": {
      "text/html": [
       "<div>\n",
       "<style scoped>\n",
       "    .dataframe tbody tr th:only-of-type {\n",
       "        vertical-align: middle;\n",
       "    }\n",
       "\n",
       "    .dataframe tbody tr th {\n",
       "        vertical-align: top;\n",
       "    }\n",
       "\n",
       "    .dataframe thead th {\n",
       "        text-align: right;\n",
       "    }\n",
       "</style>\n",
       "<table border=\"1\" class=\"dataframe\">\n",
       "  <thead>\n",
       "    <tr style=\"text-align: right;\">\n",
       "      <th></th>\n",
       "      <th>cust_id</th>\n",
       "      <th>date</th>\n",
       "      <th>gender</th>\n",
       "      <th>job</th>\n",
       "    </tr>\n",
       "  </thead>\n",
       "  <tbody>\n",
       "    <tr>\n",
       "      <th>0</th>\n",
       "      <td>2000007878</td>\n",
       "      <td>2018-12-19</td>\n",
       "      <td>Male</td>\n",
       "      <td>~</td>\n",
       "    </tr>\n",
       "    <tr>\n",
       "      <th>1</th>\n",
       "      <td>2000008555</td>\n",
       "      <td>2018-11-01</td>\n",
       "      <td>Female</td>\n",
       "      <td>Engineer</td>\n",
       "    </tr>\n",
       "    <tr>\n",
       "      <th>2</th>\n",
       "      <td>2000024405</td>\n",
       "      <td>2018-05-28</td>\n",
       "      <td>Male</td>\n",
       "      <td>Teacher</td>\n",
       "    </tr>\n",
       "    <tr>\n",
       "      <th>3</th>\n",
       "      <td>2000031035</td>\n",
       "      <td>2018-08-10</td>\n",
       "      <td>~</td>\n",
       "      <td>Students</td>\n",
       "    </tr>\n",
       "    <tr>\n",
       "      <th>4</th>\n",
       "      <td>2000031841</td>\n",
       "      <td>2018-11-05</td>\n",
       "      <td>Female</td>\n",
       "      <td>Accounter</td>\n",
       "    </tr>\n",
       "  </tbody>\n",
       "</table>\n",
       "</div>"
      ],
      "text/plain": [
       "      cust_id        date  gender        job\n",
       "0  2000007878  2018-12-19    Male          ~\n",
       "1  2000008555  2018-11-01  Female   Engineer\n",
       "2  2000024405  2018-05-28    Male    Teacher\n",
       "3  2000031035  2018-08-10       ~   Students\n",
       "4  2000031841  2018-11-05  Female  Accounter"
      ]
     },
     "metadata": {},
     "output_type": "display_data"
    }
   ],
   "source": [
    "PD.get_dataframe_head(table_name = 'information_table', columns = ['cust_id','date','gender','job'])"
   ]
  },
  {
   "cell_type": "markdown",
   "metadata": {},
   "source": [
    "## sample data"
   ]
  },
  {
   "cell_type": "code",
   "execution_count": 6,
   "metadata": {
    "ExecuteTime": {
     "end_time": "2019-09-27T07:59:34.697429Z",
     "start_time": "2019-09-27T07:59:34.685128Z"
    }
   },
   "outputs": [
    {
     "name": "stdout",
     "output_type": "stream",
     "text": [
      "query overview:\n",
      "CREATE TABLE IF NOT EXISTS basic_table_sample\n",
      " ENGINE = MergeTree\n",
      " ORDER BY cust_id\n",
      " AS SELECT *\n",
      " FROM basic_table\n",
      " ORDER BY rand() \n",
      " LIMIT 10\n",
      "\n",
      "show tables:\n",
      "[('account_table',), ('basic_table',), ('basic_table_sample',), ('fraud_case_table',), ('information_table',)]\n"
     ]
    }
   ],
   "source": [
    "PD.get_random_sample(current_table = 'basic_table',\n",
    "                    new_table = 'basic_table_sample',\n",
    "                    num_cases = '10',\n",
    "                    ordered_column = 'cust_id',\n",
    "                    selected_columns = '*')"
   ]
  },
  {
   "cell_type": "code",
   "execution_count": 8,
   "metadata": {
    "ExecuteTime": {
     "end_time": "2019-09-27T08:00:40.800501Z",
     "start_time": "2019-09-27T08:00:40.789058Z"
    }
   },
   "outputs": [
    {
     "data": {
      "text/html": [
       "<div>\n",
       "<style scoped>\n",
       "    .dataframe tbody tr th:only-of-type {\n",
       "        vertical-align: middle;\n",
       "    }\n",
       "\n",
       "    .dataframe tbody tr th {\n",
       "        vertical-align: top;\n",
       "    }\n",
       "\n",
       "    .dataframe thead th {\n",
       "        text-align: right;\n",
       "    }\n",
       "</style>\n",
       "<table border=\"1\" class=\"dataframe\">\n",
       "  <thead>\n",
       "    <tr style=\"text-align: right;\">\n",
       "      <th></th>\n",
       "      <th>cust_id</th>\n",
       "      <th>date</th>\n",
       "    </tr>\n",
       "  </thead>\n",
       "  <tbody>\n",
       "    <tr>\n",
       "      <th>0</th>\n",
       "      <td>2100381844</td>\n",
       "      <td>2018-02-19</td>\n",
       "    </tr>\n",
       "    <tr>\n",
       "      <th>1</th>\n",
       "      <td>2208761863</td>\n",
       "      <td>2018-10-13</td>\n",
       "    </tr>\n",
       "    <tr>\n",
       "      <th>2</th>\n",
       "      <td>2282664615</td>\n",
       "      <td>2018-08-10</td>\n",
       "    </tr>\n",
       "    <tr>\n",
       "      <th>3</th>\n",
       "      <td>2712683577</td>\n",
       "      <td>2018-11-02</td>\n",
       "    </tr>\n",
       "    <tr>\n",
       "      <th>4</th>\n",
       "      <td>2738636012</td>\n",
       "      <td>2018-03-12</td>\n",
       "    </tr>\n",
       "  </tbody>\n",
       "</table>\n",
       "</div>"
      ],
      "text/plain": [
       "      cust_id        date\n",
       "0  2100381844  2018-02-19\n",
       "1  2208761863  2018-10-13\n",
       "2  2282664615  2018-08-10\n",
       "3  2712683577  2018-11-02\n",
       "4  2738636012  2018-03-12"
      ]
     },
     "metadata": {},
     "output_type": "display_data"
    }
   ],
   "source": [
    "PD.get_dataframe_head(table_name = 'basic_table_sample', columns = ['cust_id','date'])"
   ]
  },
  {
   "cell_type": "code",
   "execution_count": 9,
   "metadata": {
    "ExecuteTime": {
     "end_time": "2019-09-27T08:01:02.392250Z",
     "start_time": "2019-09-27T08:01:02.387684Z"
    }
   },
   "outputs": [
    {
     "data": {
      "text/plain": [
       "[('cust_id', 'String', '', '', '', ''), ('date', 'Date', '', '', '', '')]"
      ]
     },
     "execution_count": 9,
     "metadata": {},
     "output_type": "execute_result"
    }
   ],
   "source": [
    "PD.raw_query('desc basic_table_sample;')"
   ]
  },
  {
   "cell_type": "code",
   "execution_count": 10,
   "metadata": {
    "ExecuteTime": {
     "end_time": "2019-09-27T08:01:19.243373Z",
     "start_time": "2019-09-27T08:01:19.238718Z"
    }
   },
   "outputs": [
    {
     "data": {
      "text/plain": [
       "[(10,)]"
      ]
     },
     "execution_count": 10,
     "metadata": {},
     "output_type": "execute_result"
    }
   ],
   "source": [
    "PD.raw_query('select count() from basic_table_sample;')"
   ]
  },
  {
   "cell_type": "code",
   "execution_count": null,
   "metadata": {},
   "outputs": [],
   "source": []
  }
 ],
 "metadata": {
  "kernelspec": {
   "display_name": "Python 3",
   "language": "python",
   "name": "python3"
  },
  "language_info": {
   "codemirror_mode": {
    "name": "ipython",
    "version": 3
   },
   "file_extension": ".py",
   "mimetype": "text/x-python",
   "name": "python",
   "nbconvert_exporter": "python",
   "pygments_lexer": "ipython3",
   "version": "3.6.8"
  }
 },
 "nbformat": 4,
 "nbformat_minor": 2
}
