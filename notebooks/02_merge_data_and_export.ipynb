{
 "cells": [
  {
   "cell_type": "code",
   "execution_count": 1,
   "metadata": {
    "ExecuteTime": {
     "end_time": "2019-10-16T05:55:29.847567Z",
     "start_time": "2019-10-16T05:55:29.800437Z"
    }
   },
   "outputs": [
    {
     "ename": "ModuleNotFoundError",
     "evalue": "No module named 's1_prepare_data'",
     "output_type": "error",
     "traceback": [
      "\u001b[0;31m---------------------------------------------------------------------------\u001b[0m",
      "\u001b[0;31mModuleNotFoundError\u001b[0m                       Traceback (most recent call last)",
      "\u001b[0;32m<ipython-input-1-efe105038077>\u001b[0m in \u001b[0;36m<module>\u001b[0;34m\u001b[0m\n\u001b[0;32m----> 1\u001b[0;31m \u001b[0;32mimport\u001b[0m \u001b[0ms1_prepare_data\u001b[0m \u001b[0;32mas\u001b[0m \u001b[0ms1\u001b[0m\u001b[0;34m\u001b[0m\u001b[0;34m\u001b[0m\u001b[0m\n\u001b[0m\u001b[1;32m      2\u001b[0m \u001b[0;32mimport\u001b[0m \u001b[0mpandas\u001b[0m \u001b[0;32mas\u001b[0m \u001b[0mpd\u001b[0m\u001b[0;34m\u001b[0m\u001b[0;34m\u001b[0m\u001b[0m\n",
      "\u001b[0;31mModuleNotFoundError\u001b[0m: No module named 's1_prepare_data'"
     ]
    }
   ],
   "source": [
    "import s1_prepare_data as s1\n",
    "import pandas as pd"
   ]
  },
  {
   "cell_type": "code",
   "execution_count": 2,
   "metadata": {
    "ExecuteTime": {
     "end_time": "2019-10-08T07:38:08.110588Z",
     "start_time": "2019-10-08T07:38:08.107994Z"
    }
   },
   "outputs": [],
   "source": [
    "PD = s1.Prepare_Data()"
   ]
  },
  {
   "cell_type": "code",
   "execution_count": 3,
   "metadata": {
    "ExecuteTime": {
     "end_time": "2019-10-08T07:38:08.545236Z",
     "start_time": "2019-10-08T07:38:08.542243Z"
    }
   },
   "outputs": [],
   "source": [
    "PD.login_and_choose_database(database = 'python_clickhouse_test')"
   ]
  },
  {
   "cell_type": "code",
   "execution_count": 4,
   "metadata": {
    "ExecuteTime": {
     "end_time": "2019-10-08T07:31:54.064956Z",
     "start_time": "2019-10-08T07:31:54.053116Z"
    }
   },
   "outputs": [
    {
     "data": {
      "text/plain": [
       "[('account_table',),\n",
       " ('basic_table',),\n",
       " ('basic_table_sample',),\n",
       " ('fraud_case_table',),\n",
       " ('information_table',),\n",
       " ('merged_table_1',)]"
      ]
     },
     "execution_count": 4,
     "metadata": {},
     "output_type": "execute_result"
    }
   ],
   "source": [
    "PD.raw_query('show tables;')"
   ]
  },
  {
   "cell_type": "code",
   "execution_count": 5,
   "metadata": {
    "ExecuteTime": {
     "end_time": "2019-10-08T07:31:54.748352Z",
     "start_time": "2019-10-08T07:31:54.697730Z"
    }
   },
   "outputs": [
    {
     "data": {
      "text/plain": [
       "[('cust_id', 'String', '', '', '', ''), ('date', 'Date', '', '', '', '')]"
      ]
     },
     "execution_count": 5,
     "metadata": {},
     "output_type": "execute_result"
    }
   ],
   "source": [
    "PD.raw_query('desc basic_table;')"
   ]
  },
  {
   "cell_type": "code",
   "execution_count": 6,
   "metadata": {
    "ExecuteTime": {
     "end_time": "2019-10-08T07:31:55.246215Z",
     "start_time": "2019-10-08T07:31:55.160851Z"
    }
   },
   "outputs": [
    {
     "data": {
      "text/plain": [
       "[('cust_id', 'String', '', '', '', ''),\n",
       " ('date', 'Date', '', '', '', ''),\n",
       " ('gender', 'String', '', '', '', ''),\n",
       " ('job', 'String', '', '', '', '')]"
      ]
     },
     "execution_count": 6,
     "metadata": {},
     "output_type": "execute_result"
    }
   ],
   "source": [
    "PD.raw_query('desc information_table;')"
   ]
  },
  {
   "cell_type": "markdown",
   "metadata": {},
   "source": [
    "## merge data"
   ]
  },
  {
   "cell_type": "code",
   "execution_count": 4,
   "metadata": {
    "ExecuteTime": {
     "end_time": "2019-10-08T07:38:11.447647Z",
     "start_time": "2019-10-08T07:38:11.349821Z"
    }
   },
   "outputs": [
    {
     "name": "stdout",
     "output_type": "stream",
     "text": [
      "query overview: \n",
      "CREATE TABLE IF NOT EXISTS merged_table_1\n",
      "ENGINE = MergeTree\n",
      "ORDER BY cust_id\n",
      "AS SELECT * FROM ( \n",
      " select cust_id as cust_id_basic, date as date_basic from basic_table)a \n",
      "inner join( \n",
      " select * from information_table)b \n",
      "ON a.cust_id_basic = b.cust_id \n",
      " AND a.date_basic = b.date\n",
      "\n",
      "show tables: \n",
      "[('account_table',), ('basic_table',), ('basic_table_sample',), ('fraud_case_table',), ('information_table',), ('merged_table_1',)]\n"
     ]
    }
   ],
   "source": [
    "PD.merge_data(new_table = 'merged_table_1',\n",
    "             ordered_column = 'cust_id',\n",
    "             joined_method = 'inner join',\n",
    "             left_table_query = ' select cust_id as cust_id_basic, date as date_basic from basic_table',\n",
    "             right_table_query = ' select * from information_table',\n",
    "             on_query = 'a.cust_id_basic = b.cust_id \\n AND a.date_basic = b.date'\n",
    "             )"
   ]
  },
  {
   "cell_type": "code",
   "execution_count": 5,
   "metadata": {
    "ExecuteTime": {
     "end_time": "2019-10-08T07:38:13.647726Z",
     "start_time": "2019-10-08T07:38:13.629211Z"
    }
   },
   "outputs": [
    {
     "data": {
      "text/html": [
       "<div>\n",
       "<style scoped>\n",
       "    .dataframe tbody tr th:only-of-type {\n",
       "        vertical-align: middle;\n",
       "    }\n",
       "\n",
       "    .dataframe tbody tr th {\n",
       "        vertical-align: top;\n",
       "    }\n",
       "\n",
       "    .dataframe thead th {\n",
       "        text-align: right;\n",
       "    }\n",
       "</style>\n",
       "<table border=\"1\" class=\"dataframe\">\n",
       "  <thead>\n",
       "    <tr style=\"text-align: right;\">\n",
       "      <th></th>\n",
       "      <th>cust_id_basic</th>\n",
       "      <th>date_basic</th>\n",
       "      <th>cust_id</th>\n",
       "      <th>date</th>\n",
       "      <th>gender</th>\n",
       "      <th>job</th>\n",
       "    </tr>\n",
       "  </thead>\n",
       "  <tbody>\n",
       "    <tr>\n",
       "      <th>0</th>\n",
       "      <td>2000007878</td>\n",
       "      <td>2018-12-19</td>\n",
       "      <td>2000007878</td>\n",
       "      <td>2018-12-19</td>\n",
       "      <td>Male</td>\n",
       "      <td>~</td>\n",
       "    </tr>\n",
       "    <tr>\n",
       "      <th>1</th>\n",
       "      <td>2000008555</td>\n",
       "      <td>2018-11-01</td>\n",
       "      <td>2000008555</td>\n",
       "      <td>2018-11-01</td>\n",
       "      <td>Female</td>\n",
       "      <td>Engineer</td>\n",
       "    </tr>\n",
       "    <tr>\n",
       "      <th>2</th>\n",
       "      <td>2000024405</td>\n",
       "      <td>2018-05-28</td>\n",
       "      <td>2000024405</td>\n",
       "      <td>2018-05-28</td>\n",
       "      <td>Male</td>\n",
       "      <td>Teacher</td>\n",
       "    </tr>\n",
       "    <tr>\n",
       "      <th>3</th>\n",
       "      <td>2000031035</td>\n",
       "      <td>2018-08-10</td>\n",
       "      <td>2000031035</td>\n",
       "      <td>2018-08-10</td>\n",
       "      <td>~</td>\n",
       "      <td>Students</td>\n",
       "    </tr>\n",
       "    <tr>\n",
       "      <th>4</th>\n",
       "      <td>2000031841</td>\n",
       "      <td>2018-11-05</td>\n",
       "      <td>2000031841</td>\n",
       "      <td>2018-11-05</td>\n",
       "      <td>Female</td>\n",
       "      <td>Accounter</td>\n",
       "    </tr>\n",
       "  </tbody>\n",
       "</table>\n",
       "</div>"
      ],
      "text/plain": [
       "  cust_id_basic  date_basic     cust_id        date  gender        job\n",
       "0    2000007878  2018-12-19  2000007878  2018-12-19    Male          ~\n",
       "1    2000008555  2018-11-01  2000008555  2018-11-01  Female   Engineer\n",
       "2    2000024405  2018-05-28  2000024405  2018-05-28    Male    Teacher\n",
       "3    2000031035  2018-08-10  2000031035  2018-08-10       ~   Students\n",
       "4    2000031841  2018-11-05  2000031841  2018-11-05  Female  Accounter"
      ]
     },
     "metadata": {},
     "output_type": "display_data"
    }
   ],
   "source": [
    "PD.get_dataframe_head(table_name = 'merged_table_1')"
   ]
  },
  {
   "cell_type": "code",
   "execution_count": 6,
   "metadata": {
    "ExecuteTime": {
     "end_time": "2019-10-08T07:38:14.583209Z",
     "start_time": "2019-10-08T07:38:14.577497Z"
    }
   },
   "outputs": [
    {
     "data": {
      "text/plain": [
       "[(500000,)]"
      ]
     },
     "execution_count": 6,
     "metadata": {},
     "output_type": "execute_result"
    }
   ],
   "source": [
    "PD.raw_query('select count() from merged_table_1')"
   ]
  },
  {
   "cell_type": "code",
   "execution_count": null,
   "metadata": {},
   "outputs": [],
   "source": [
    "!clickhouse-client --host=\"localhost\" --port=\"9000\" --user=\"default\" --max_threads=\"1\"  --format_csv_delimiter=\"|\" \\\n",
    "--query=\"select * from python_clickhouse_test.merged_table_1 format CSV\"  > merged_table_1\n"
   ]
  }
 ],
 "metadata": {
  "kernelspec": {
   "display_name": "Python 3",
   "language": "python",
   "name": "python3"
  },
  "language_info": {
   "codemirror_mode": {
    "name": "ipython",
    "version": 3
   },
   "file_extension": ".py",
   "mimetype": "text/x-python",
   "name": "python",
   "nbconvert_exporter": "python",
   "pygments_lexer": "ipython3",
   "version": "3.6.8"
  }
 },
 "nbformat": 4,
 "nbformat_minor": 2
}
