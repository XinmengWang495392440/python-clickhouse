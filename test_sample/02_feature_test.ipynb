{
 "cells": [
  {
   "cell_type": "code",
   "execution_count": 1,
   "metadata": {
    "ExecuteTime": {
     "end_time": "2019-10-16T06:19:53.750641Z",
     "start_time": "2019-10-16T06:19:53.748007Z"
    }
   },
   "outputs": [],
   "source": [
    "import sys\n",
    "sys.path.append('/home/jupyter-wangxm/6_clickhouse_raw_data/script')"
   ]
  },
  {
   "cell_type": "code",
   "execution_count": 2,
   "metadata": {
    "ExecuteTime": {
     "end_time": "2019-10-16T06:19:58.286739Z",
     "start_time": "2019-10-16T06:19:55.033040Z"
    }
   },
   "outputs": [
    {
     "data": {
      "text/plain": [
       "'input current date: '"
      ]
     },
     "metadata": {},
     "output_type": "display_data"
    },
    {
     "name": "stdout",
     "output_type": "stream",
     "text": [
      "20191016\n"
     ]
    }
   ],
   "source": [
    "import s1_feature_test as s1\n",
    "import pandas as pd"
   ]
  },
  {
   "cell_type": "markdown",
   "metadata": {},
   "source": [
    "## 字段名称：是否员工"
   ]
  },
  {
   "cell_type": "markdown",
   "metadata": {},
   "source": [
    "字段业务逻辑：\n",
    "\n",
    "\n",
    "'''\n",
    "\n",
    "\n",
    "\n",
    "'''"
   ]
  },
  {
   "cell_type": "markdown",
   "metadata": {},
   "source": [
    "## 开始测试"
   ]
  },
  {
   "cell_type": "markdown",
   "metadata": {},
   "source": [
    "### login clickhouse"
   ]
  },
  {
   "cell_type": "code",
   "execution_count": 3,
   "metadata": {
    "ExecuteTime": {
     "end_time": "2019-10-16T06:20:23.647182Z",
     "start_time": "2019-10-16T06:20:23.552537Z"
    }
   },
   "outputs": [
    {
     "data": {
      "text/plain": [
       "[]"
      ]
     },
     "execution_count": 3,
     "metadata": {},
     "output_type": "execute_result"
    }
   ],
   "source": [
    "PD = s1.Prepare_Data()\n",
    "PD.login_and_choose_database(database = 'test_database') # choose database；\n",
    "PD.raw_query('show tables;') # check tables exist；"
   ]
  },
  {
   "cell_type": "markdown",
   "metadata": {},
   "source": [
    "### 创建中间表"
   ]
  },
  {
   "cell_type": "markdown",
   "metadata": {},
   "source": [
    "create table"
   ]
  },
  {
   "cell_type": "code",
   "execution_count": 7,
   "metadata": {
    "ExecuteTime": {
     "end_time": "2019-10-16T06:22:34.246465Z",
     "start_time": "2019-10-16T06:22:34.223245Z"
    }
   },
   "outputs": [
    {
     "name": "stdout",
     "output_type": "stream",
     "text": [
      "query overview: \n",
      "CREATE TABLE IF NOT EXISTS _1016_STF_EMP_IND_1\n",
      " (cust_id String, date Date)\n",
      " ENGINE = MergeTree\n",
      " ORDER BY cust_id\n",
      "\n",
      "show tables: \n",
      "[('_1016_STF_EMP_IND_1',)]\n"
     ]
    }
   ],
   "source": [
    "PD.create_table(table_name = '_1016_STF_EMP_IND_1', # 以’字段名称 + 中间表序号‘进行中间表命名，\n",
    "             columns = 'cust_id String, date Date',\n",
    "             engine = 'MergeTree',\n",
    "             ordered_column = 'cust_id')"
   ]
  },
  {
   "cell_type": "markdown",
   "metadata": {},
   "source": [
    "sample data"
   ]
  },
  {
   "cell_type": "code",
   "execution_count": 8,
   "metadata": {
    "ExecuteTime": {
     "end_time": "2019-10-16T06:23:43.582838Z",
     "start_time": "2019-10-16T06:23:43.487928Z"
    }
   },
   "outputs": [
    {
     "name": "stdout",
     "output_type": "stream",
     "text": [
      "query overview: \n",
      "CREATE TABLE IF NOT EXISTS _1016_STF_EMP_IND_2\n",
      " ENGINE = MergeTree\n",
      " ORDER BY cust_id\n",
      " AS SELECT *\n",
      " FROM python_clickhouse_test.basic_table\n",
      " ORDER BY rand() \n",
      " LIMIT 10\n",
      "\n",
      "show tables: \n",
      "[('_1016_STF_EMP_IND_1',), ('_1016_STF_EMP_IND_2',)]\n"
     ]
    }
   ],
   "source": [
    "PD.get_random_sample(current_table = 'python_clickhouse_test.basic_table',\n",
    "                    new_table = '_1016_STF_EMP_IND_2',\n",
    "                    num_cases = '10',\n",
    "                    ordered_column = 'cust_id',\n",
    "                    selected_columns = '*')"
   ]
  },
  {
   "cell_type": "markdown",
   "metadata": {},
   "source": [
    "merge data"
   ]
  },
  {
   "cell_type": "code",
   "execution_count": 10,
   "metadata": {
    "ExecuteTime": {
     "end_time": "2019-10-16T06:25:39.581519Z",
     "start_time": "2019-10-16T06:25:39.222906Z"
    }
   },
   "outputs": [
    {
     "name": "stdout",
     "output_type": "stream",
     "text": [
      "query overview: \n",
      "CREATE TABLE IF NOT EXISTS _1016_STF_EMP_IND_3\n",
      "ENGINE = MergeTree\n",
      "ORDER BY cust_id\n",
      "AS SELECT * FROM ( \n",
      " select cust_id as cust_id_basic, date as date_basic from python_clickhouse_test.basic_table)a \n",
      "inner join( \n",
      " select * from python_clickhouse_test.information_table)b \n",
      "ON a.cust_id_basic = b.cust_id \n",
      " AND a.date_basic = b.date\n",
      "\n",
      "show tables: \n",
      "[('_1016_STF_EMP_IND_1',), ('_1016_STF_EMP_IND_2',), ('_1016_STF_EMP_IND_3',)]\n"
     ]
    }
   ],
   "source": [
    "PD.merge_data(new_table = '_1016_STF_EMP_IND_3',\n",
    "             ordered_column = 'cust_id',\n",
    "             joined_method = 'inner join',\n",
    "             left_table_query = ' select cust_id as cust_id_basic, date as date_basic from python_clickhouse_test.basic_table',\n",
    "             right_table_query = ' select * from python_clickhouse_test.information_table',\n",
    "             on_query = 'a.cust_id_basic = b.cust_id \\n AND a.date_basic = b.date'\n",
    "             )"
   ]
  },
  {
   "cell_type": "markdown",
   "metadata": {},
   "source": [
    "other sql"
   ]
  },
  {
   "cell_type": "code",
   "execution_count": 11,
   "metadata": {
    "ExecuteTime": {
     "end_time": "2019-10-16T06:25:48.846578Z",
     "start_time": "2019-10-16T06:25:48.832934Z"
    }
   },
   "outputs": [
    {
     "data": {
      "text/plain": [
       "[('cust_id_basic', 'String', '', '', '', ''),\n",
       " ('date_basic', 'Date', '', '', '', ''),\n",
       " ('cust_id', 'String', '', '', '', ''),\n",
       " ('date', 'Date', '', '', '', ''),\n",
       " ('gender', 'String', '', '', '', ''),\n",
       " ('job', 'String', '', '', '', '')]"
      ]
     },
     "execution_count": 11,
     "metadata": {},
     "output_type": "execute_result"
    }
   ],
   "source": [
    "PD.raw_query('desc _1016_STF_EMP_IND_3;')\n",
    "\n",
    "\n",
    "\n"
   ]
  },
  {
   "cell_type": "markdown",
   "metadata": {},
   "source": [
    "## 结果比对"
   ]
  },
  {
   "cell_type": "code",
   "execution_count": 12,
   "metadata": {
    "ExecuteTime": {
     "end_time": "2019-10-16T06:26:21.390465Z",
     "start_time": "2019-10-16T06:26:19.263276Z"
    },
    "scrolled": true
   },
   "outputs": [
    {
     "name": "stdout",
     "output_type": "stream",
     "text": [
      "query overview: \n",
      "['SELECT cust_id_basic, date_basic, job FROM _1016_STF_EMP_IND_3'],\n",
      "['SELECT cust_id, date, job FROM python_clickhouse_test.information_table']\n",
      "\n",
      "check merged shape: res_kx_df: 500000, res_jh_df: 500000, res_comp: 500000\n",
      "\n",
      "There are 0 unequal cases. (check detail if >0)\n",
      "\n",
      "A glance of merged_data:\n"
     ]
    },
    {
     "data": {
      "text/html": [
       "<div>\n",
       "<style scoped>\n",
       "    .dataframe tbody tr th:only-of-type {\n",
       "        vertical-align: middle;\n",
       "    }\n",
       "\n",
       "    .dataframe tbody tr th {\n",
       "        vertical-align: top;\n",
       "    }\n",
       "\n",
       "    .dataframe thead th {\n",
       "        text-align: right;\n",
       "    }\n",
       "</style>\n",
       "<table border=\"1\" class=\"dataframe\">\n",
       "  <thead>\n",
       "    <tr style=\"text-align: right;\">\n",
       "      <th></th>\n",
       "      <th>cust_id</th>\n",
       "      <th>date</th>\n",
       "      <th>job_kx</th>\n",
       "      <th>job_jh</th>\n",
       "    </tr>\n",
       "  </thead>\n",
       "  <tbody>\n",
       "    <tr>\n",
       "      <th>0</th>\n",
       "      <td>2979798304</td>\n",
       "      <td>2018-08-21</td>\n",
       "      <td>Accounter</td>\n",
       "      <td>Accounter</td>\n",
       "    </tr>\n",
       "    <tr>\n",
       "      <th>1</th>\n",
       "      <td>2979835241</td>\n",
       "      <td>2018-09-08</td>\n",
       "      <td>Artist</td>\n",
       "      <td>Artist</td>\n",
       "    </tr>\n",
       "    <tr>\n",
       "      <th>2</th>\n",
       "      <td>2979853619</td>\n",
       "      <td>2018-09-23</td>\n",
       "      <td>Professional Manager</td>\n",
       "      <td>Professional Manager</td>\n",
       "    </tr>\n",
       "    <tr>\n",
       "      <th>3</th>\n",
       "      <td>2979855230</td>\n",
       "      <td>2018-08-26</td>\n",
       "      <td>~</td>\n",
       "      <td>~</td>\n",
       "    </tr>\n",
       "    <tr>\n",
       "      <th>4</th>\n",
       "      <td>2979855476</td>\n",
       "      <td>2018-11-25</td>\n",
       "      <td>Accounter</td>\n",
       "      <td>Accounter</td>\n",
       "    </tr>\n",
       "  </tbody>\n",
       "</table>\n",
       "</div>"
      ],
      "text/plain": [
       "      cust_id        date                job_kx                job_jh\n",
       "0  2979798304  2018-08-21             Accounter             Accounter\n",
       "1  2979835241  2018-09-08                Artist                Artist\n",
       "2  2979853619  2018-09-23  Professional Manager  Professional Manager\n",
       "3  2979855230  2018-08-26                     ~                     ~\n",
       "4  2979855476  2018-11-25             Accounter             Accounter"
      ]
     },
     "metadata": {},
     "output_type": "display_data"
    }
   ],
   "source": [
    "res_kx, res_jh = PD.check_res(table_kx = '_1016_STF_EMP_IND_3',\n",
    "                              table_jh = 'python_clickhouse_test.information_table',\n",
    "                              columns_kx = 'cust_id_basic, date_basic, job',\n",
    "                              columns_jh = 'cust_id, date, job',\n",
    "                              columns_comp = 'job',\n",
    "                              header = ['cust_id', 'date', 'job'])"
   ]
  },
  {
   "cell_type": "code",
   "execution_count": null,
   "metadata": {},
   "outputs": [],
   "source": []
  }
 ],
 "metadata": {
  "kernelspec": {
   "display_name": "Python 3",
   "language": "python",
   "name": "python3"
  },
  "language_info": {
   "codemirror_mode": {
    "name": "ipython",
    "version": 3
   },
   "file_extension": ".py",
   "mimetype": "text/x-python",
   "name": "python",
   "nbconvert_exporter": "python",
   "pygments_lexer": "ipython3",
   "version": "3.6.8"
  }
 },
 "nbformat": 4,
 "nbformat_minor": 2
}
