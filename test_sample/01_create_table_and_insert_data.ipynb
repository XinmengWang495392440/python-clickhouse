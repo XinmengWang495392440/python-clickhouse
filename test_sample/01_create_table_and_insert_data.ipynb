{
 "cells": [
  {
   "cell_type": "code",
   "execution_count": null,
   "metadata": {
    "ExecuteTime": {
     "end_time": "2019-10-16T03:19:47.255776Z",
     "start_time": "2019-10-16T03:19:47.252905Z"
    }
   },
   "outputs": [],
   "source": [
    "import sys\n",
    "sys.path.append('/home/jupyter-wangxm/6_clickhouse_raw_data/script')"
   ]
  },
  {
   "cell_type": "code",
   "execution_count": null,
   "metadata": {
    "ExecuteTime": {
     "end_time": "2019-10-16T03:19:50.761977Z",
     "start_time": "2019-10-16T03:19:48.027589Z"
    }
   },
   "outputs": [],
   "source": [
    "import s1_feature_test as s1\n",
    "import pandas as pd"
   ]
  },
  {
   "cell_type": "code",
   "execution_count": null,
   "metadata": {
    "ExecuteTime": {
     "end_time": "2019-10-16T03:19:52.260097Z",
     "start_time": "2019-10-16T03:19:52.257774Z"
    }
   },
   "outputs": [],
   "source": [
    "PD = s1.Prepare_Data()"
   ]
  },
  {
   "cell_type": "code",
   "execution_count": null,
   "metadata": {
    "ExecuteTime": {
     "end_time": "2019-10-16T03:19:53.845665Z",
     "start_time": "2019-10-16T03:19:53.812913Z"
    }
   },
   "outputs": [],
   "source": [
    "PD.login_and_choose_database(database = 'python_clickhouse_test')"
   ]
  },
  {
   "cell_type": "code",
   "execution_count": null,
   "metadata": {
    "ExecuteTime": {
     "end_time": "2019-10-16T03:19:54.400259Z",
     "start_time": "2019-10-16T03:19:54.337890Z"
    }
   },
   "outputs": [],
   "source": [
    "PD.raw_query('show tables;')"
   ]
  },
  {
   "cell_type": "markdown",
   "metadata": {},
   "source": [
    "## create table"
   ]
  },
  {
   "cell_type": "code",
   "execution_count": null,
   "metadata": {
    "ExecuteTime": {
     "end_time": "2019-10-16T03:20:05.847778Z",
     "start_time": "2019-10-16T03:20:05.758044Z"
    }
   },
   "outputs": [],
   "source": [
    "PD.create_table(table_name = 'basic_table',\n",
    "             columns = 'cust_id String, date Date',\n",
    "             engine = 'MergeTree',\n",
    "             ordered_column = 'cust_id')"
   ]
  },
  {
   "cell_type": "code",
   "execution_count": null,
   "metadata": {
    "ExecuteTime": {
     "end_time": "2019-10-16T03:20:10.046468Z",
     "start_time": "2019-10-16T03:20:09.977980Z"
    }
   },
   "outputs": [],
   "source": [
    "PD.create_table(table_name = 'fraud_case_table',\n",
    "             columns = 'cust_id String, date Date, fraud_label Int64, risk_level Int64',\n",
    "             engine = 'MergeTree',\n",
    "             ordered_column = 'cust_id')"
   ]
  },
  {
   "cell_type": "code",
   "execution_count": null,
   "metadata": {
    "ExecuteTime": {
     "end_time": "2019-10-16T03:20:15.246399Z",
     "start_time": "2019-10-16T03:20:15.192826Z"
    }
   },
   "outputs": [],
   "source": [
    "PD.create_table(table_name = 'account_table',\n",
    "             columns = 'cust_id String, date Date, amount Int64',\n",
    "             engine = 'MergeTree',\n",
    "             ordered_column = 'cust_id')"
   ]
  },
  {
   "cell_type": "code",
   "execution_count": null,
   "metadata": {
    "ExecuteTime": {
     "end_time": "2019-10-16T03:20:19.246223Z",
     "start_time": "2019-10-16T03:20:19.222933Z"
    }
   },
   "outputs": [],
   "source": [
    "PD.create_table(table_name = 'information_table',\n",
    "             columns = 'cust_id String, date Date, gender String, job String',\n",
    "             engine = 'MergeTree',\n",
    "             ordered_column = 'cust_id')"
   ]
  },
  {
   "cell_type": "markdown",
   "metadata": {},
   "source": [
    "## insert data"
   ]
  },
  {
   "cell_type": "code",
   "execution_count": null,
   "metadata": {
    "ExecuteTime": {
     "end_time": "2019-09-24T10:44:43.522107Z",
     "start_time": "2019-09-24T10:44:43.089114Z"
    }
   },
   "outputs": [],
   "source": [
    "!cat '../fake_data/basic_table.csv' | clickhouse-client -d python_clickhouse_test --query='insert into basic_table format CSV' \\\n",
    "--input_format_allow_errors_ratio=0.01"
   ]
  },
  {
   "cell_type": "code",
   "execution_count": null,
   "metadata": {
    "ExecuteTime": {
     "end_time": "2019-09-24T10:44:44.571859Z",
     "start_time": "2019-09-24T10:44:44.092598Z"
    }
   },
   "outputs": [],
   "source": [
    "!cat '../fake_data/fraud_case_table.csv' | clickhouse-client -d python_clickhouse_test --query='insert into fraud_case_table format CSV' \\\n",
    "--input_format_allow_errors_ratio=0.01"
   ]
  },
  {
   "cell_type": "code",
   "execution_count": null,
   "metadata": {
    "ExecuteTime": {
     "end_time": "2019-09-24T10:44:46.869491Z",
     "start_time": "2019-09-24T10:44:45.054268Z"
    }
   },
   "outputs": [],
   "source": [
    "!cat '../fake_data/account_table.csv' | clickhouse-client -d python_clickhouse_test --query='insert into account_table format CSV' \\\n",
    "--input_format_allow_errors_ratio=0.1"
   ]
  },
  {
   "cell_type": "code",
   "execution_count": null,
   "metadata": {
    "ExecuteTime": {
     "end_time": "2019-09-24T10:44:48.063083Z",
     "start_time": "2019-09-24T10:44:47.512637Z"
    }
   },
   "outputs": [],
   "source": [
    "!cat '../fake_data/information_table.csv' | clickhouse-client -d python_clickhouse_test --query='insert into information_table format CSV' \\\n",
    "--input_format_allow_errors_ratio=0.1"
   ]
  },
  {
   "cell_type": "code",
   "execution_count": null,
   "metadata": {
    "ExecuteTime": {
     "end_time": "2019-09-24T10:44:48.812170Z",
     "start_time": "2019-09-24T10:44:48.799956Z"
    }
   },
   "outputs": [],
   "source": [
    "PD.raw_query('select count() from basic_table'),\\\n",
    "PD.raw_query('select count() from fraud_case_table'),\\\n",
    "PD.raw_query('select count() from account_table'),\\\n",
    "PD.raw_query('select count() from information_table')"
   ]
  },
  {
   "cell_type": "code",
   "execution_count": null,
   "metadata": {
    "ExecuteTime": {
     "end_time": "2019-09-24T10:44:50.063465Z",
     "start_time": "2019-09-24T10:44:50.046994Z"
    }
   },
   "outputs": [],
   "source": [
    "pd.DataFrame(PD.raw_query('select * from information_table limit 5'),columns=['cust_id','date','gender','job'])"
   ]
  },
  {
   "cell_type": "code",
   "execution_count": null,
   "metadata": {
    "ExecuteTime": {
     "end_time": "2019-09-27T07:57:37.490068Z",
     "start_time": "2019-09-27T07:57:37.464889Z"
    }
   },
   "outputs": [],
   "source": [
    "PD.get_dataframe_head(table_name = 'information_table', columns = ['cust_id','date','gender','job'])"
   ]
  },
  {
   "cell_type": "code",
   "execution_count": null,
   "metadata": {},
   "outputs": [],
   "source": []
  }
 ],
 "metadata": {
  "kernelspec": {
   "display_name": "Python 3",
   "language": "python",
   "name": "python3"
  },
  "language_info": {
   "codemirror_mode": {
    "name": "ipython",
    "version": 3
   },
   "file_extension": ".py",
   "mimetype": "text/x-python",
   "name": "python",
   "nbconvert_exporter": "python",
   "pygments_lexer": "ipython3",
   "version": "3.6.8"
  }
 },
 "nbformat": 4,
 "nbformat_minor": 2
}
